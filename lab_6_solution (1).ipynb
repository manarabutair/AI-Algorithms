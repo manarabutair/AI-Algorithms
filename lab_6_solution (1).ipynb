{
  "nbformat": 4,
  "nbformat_minor": 0,
  "metadata": {
    "colab": {
      "provenance": []
    },
    "kernelspec": {
      "name": "python3",
      "display_name": "Python 3"
    },
    "language_info": {
      "name": "python"
    }
  },
  "cells": [
    {
      "cell_type": "code",
      "execution_count": 1,
      "metadata": {
        "id": "kVrx9rq4I3wA"
      },
      "outputs": [],
      "source": [
        "a= {'A':[('B', 2), ('E', 5), ('D', 3)], 'B':[('E', 1)], 'E': [('G', 6), ('F', 3)], 'D':[('E', 15),('F', 4)], 'G':[('F', 24), ('C', 6)]}"
      ]
    },
    {
      "cell_type": "code",
      "source": [
        "def hue(hueNote):\n",
        "  return hueNote*1.8"
      ],
      "metadata": {
        "id": "kjoSs9ubI8jC"
      },
      "execution_count": 2,
      "outputs": []
    },
    {
      "cell_type": "code",
      "source": [
        "def aStar(al, HueDict, start, goal):\n",
        "  openList= set([start])\n",
        "  closedList= set([])\n",
        "  g={}\n",
        "  parents={}\n",
        "  g[start]=0\n",
        "  while len(openList)>0:\n",
        "    n=None\n",
        "    for v in openList:\n",
        "      if n==None or g[v]+HueDict[v]<g[n]+HueDict[n]:\n",
        "        n=v\n",
        "\n",
        "    if n== None:\n",
        "      print('path does not exist')\n",
        "      return None\n",
        "\n",
        "    if n == goal:\n",
        "                reconst_path = []\n",
        "                while n != start:\n",
        "                    reconst_path.append(n)\n",
        "                    n = parents[n]\n",
        "                reconst_path.append(n)\n",
        "                reconst_path.reverse()\n",
        "                print('Path found: {}'.format(reconst_path))\n",
        "                return reconst_path\n",
        "    \n",
        "    \n",
        "    for (m, weight) in al[n]:\n",
        "      if m not in openList and m not in closedList:\n",
        "        openList.add(m)\n",
        "        parents[m]=n\n",
        "        g[m]=g[n]+ weight\n",
        "\n",
        "      else:\n",
        "        if g[n]+weight>g[m]:\n",
        "          g[m]=g[n]+weight\n",
        "          parents[m]=n\n",
        "          if m in closedList:\n",
        "            closedList.remove(m)\n",
        "            openList.add(m)\n",
        "\n",
        "    openList.remove(n)\n",
        "    closedList.add(n)\n",
        "  print(\"path doesn't exist \")\n",
        "  return None"
      ],
      "metadata": {
        "id": "JIJyUZ-XI9tg"
      },
      "execution_count": 1,
      "outputs": []
    },
    {
      "cell_type": "code",
      "source": [
        "G = {\n",
        "     'A': [('B',10),('C',12),('D',5)],\n",
        "     'B': [('A',10), ('E', 11)],\n",
        "     'C': [('A',12),('D', 6), ('E', 11), ('F', 8)],\n",
        "     'D': [('A',5), ('C', 6), ('F', 14)],\n",
        "     'E': [('B',11),('C', 11)],\n",
        "     'F': [('C', 8),('D', 14)]\n",
        "}\n",
        "H = {\n",
        "            'A': 10,\n",
        "            'B': 15,\n",
        "            'C': 5,\n",
        "            'D': 5,\n",
        "            'E': 10,\n",
        "            'F': 0\n",
        "        }"
      ],
      "metadata": {
        "id": "eW1tlfZ8JFMq"
      },
      "execution_count": 2,
      "outputs": []
    },
    {
      "cell_type": "code",
      "source": [
        "aStar(G, H, 'A', 'F')"
      ],
      "metadata": {
        "id": "A6JVBzbwJIEK"
      },
      "execution_count": null,
      "outputs": []
    }
  ]
}