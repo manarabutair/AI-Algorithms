{
  "cells": [
    {
      "cell_type": "markdown",
      "metadata": {
        "id": "uathVY58ZRuH"
      },
      "source": [
        "<center><img src=\"https://drive.google.com/uc?export=view&id=1ia67jZrMZx4V45HYDM7pxcoZrPJE-NMP\" alt=\"PSUT\"  width=\"180px\"> \n",
        "<p> \n",
        "King Hussein School for Computing Sciences <br>\n",
        "Department of Data Science <br>\n",
        "Artificial Intelligence Lab <br>\n",
        "</p></center>\n",
        "\n",
        "\n",
        "<!-- **Title**:  *Review of Python*  -->\n",
        "<hr>\n",
        "<h4><b>Grading Criteria</b></h4>\n",
        "\n",
        "<table border>\n",
        "<tr>\n",
        "<td> <b>Exercise</b></td>\n",
        "<td> <b>Ex.1</b></td>\n",
        "<td> <b>Ex.2</b></td>\n",
        "<td> <b>Ex.3</b></td>\n",
        "</tr>\n",
        "\n",
        "<tr>\n",
        "<td> <b>Marks</b></td>\n",
        "<td> /2</td>\n",
        "<td> /5</td>\n",
        "<td> /3</td>\n",
        "\n",
        "</tr>\n",
        "<tr>\n",
        "<td> <b>Total</b></td>\n",
        "<th colspan=6> /10</th> \n",
        "</tr>\n",
        "</table>\n",
        "\n",
        "<h4><b>Lab Objectives</b></h4>\n",
        "<ul>\n",
        "<li> Familiarizing students with the process of object-oriented design.\n",
        "<li> Familiarizing students with reading and understanding object-oriented programs. \n",
        "<li> Understanding the concepts of encapsulation, polymorphism, and inheritance\n",
        "as they pertain to object -oriented design and programming.\n",
        "<li> Designing moderately complex software using object -oriented\n",
        "design.\n",
        "</ul>\n",
        "\n",
        "<h4><b>Lab Instructions</b></h4>\n",
        "<ul>\n",
        "<li> Create a new folder on desktop and name it by your “ID-FirstName-LastName-LabX”.\n",
        "<li> Create a new folder on Google drive and name it by your.“ID-FirstName-LastName-DE-Lab” and inside this folder create a new folder for each lab.\n",
        "<li> You must upload your solutions to e-learning as follows as .ipynb and .pdf (ctrl+P) files.\n",
        "<li> Each lab assignment is of 10 marks.</li>\n",
        "<li> <b>Do not</b> leave before discussing your solutions with the instructor. </li> \n",
        "</ul>\n",
        "\n"
      ]
    },
    {
      "cell_type": "markdown",
      "metadata": {
        "id": "UGUVe4VJZxbN"
      },
      "source": [
        "#Exercise 1:\n",
        "<h5> <u> Exercise Objectives: </u></h5>\n",
        "\n",
        "* Drawing class diagram.\n",
        "\n",
        "<h5> <u> Problem Description: </u></h5>\n",
        "You are asked to develop a program for a conference.\n",
        "\n",
        "* The program includes three classes called `Person`, `Student`, and `Representor`.\n",
        "*  The classes `Student`and `Representor` inherits from class `Person`.\n",
        "*  The class `Person` includes the following attributes and functions:\n",
        "  * Four private members: `name`,`nationality`, `birthYear`, and `personID`. \n",
        "  * A parameterized constructor to initialize all private members.\n",
        "  * Setter functions to set values for private memebers: `setName()`, `setNationality()`, `setBirthYear()`, and `setPersonID()`.\n",
        "  * Getter functions to return the values for private memebers: `getName()`, `getNationality()`, `getBirthYear()`, and `getPersonID()`.\n",
        "  * A function called `print()` to print data about a person in a well-formatted manner.\n",
        "\n",
        "*  The class `Student` includes the following attributes and functions:\n",
        "  * Two private members: `Grade` and `GPA`.\n",
        "  * A parameterized constructor to initialize all private members. \n",
        "  * Setter functions to set values for private memebers: `setGrade()`and `setGPA()`. \n",
        "\n",
        "*  The class `Representor` includes the following attributes and functions:\n",
        "  * Two private members: `Evaluation` and `Year`.\n",
        "  * A parameterized constructor to initialize all private members in addition to an object of class `Student`. The constructor receives an object of `Student` to initialize.\n",
        "  * Setter functions to set values for private memebers: `setEvaluation()`and `setYear()`. \n",
        "\n",
        "Draw a class diagram that represent the given problem on the paper. **SHOW THE DIAGRAM TO THE INSTRUCTOR BEFORE THE IMPLEMENTATION.**"
      ]
    },
    {
      "cell_type": "markdown",
      "metadata": {
        "id": "K85aPKAeajen"
      },
      "source": [
        "##Exercise 2:\n",
        "<h5> <u> Exercise Objectives: </u></h5>\n",
        "\n",
        "* Define class\n",
        "\n",
        "\n",
        "<h5> <u> Problem Description: </u></h5>\n",
        "\n",
        "* Implement class `Person`. \n",
        "* Implement class `Student`. \n",
        "* Implement class `Representor`. \n",
        "\n"
      ]
    },
    {
      "cell_type": "code",
      "execution_count": 60,
      "metadata": {
        "id": "UtdNKZudhJu5"
      },
      "outputs": [],
      "source": [
        "class Person():\n",
        "  __name=''\n",
        "  __nationality=''\n",
        "  __birthYear=0\n",
        "  __personID=0\n",
        "  def __init__(self, nam, nat, birth, id):\n",
        "    self.__name=nam\n",
        "    self.__nationality=nat\n",
        "    self.__birthYear=birth\n",
        "    self.__personID =id\n",
        "\n",
        "  def setName (self, nam):\n",
        "    self.__name=nam\n",
        "  \n",
        "  def setNationality(self, nat):\n",
        "    self.__nationality=nat\n",
        "\n",
        "  def setBirthYear(self, birth):\n",
        "    self.__birthYear=birth\n",
        "\n",
        "  def setPersonID(self, id):\n",
        "    self.__personID=id\n",
        "\n",
        "  def getName(self):\n",
        "    return self.__name\n",
        "  \n",
        "  def getNationality(self):\n",
        "    return self.__nationality\n",
        "  \n",
        "  def getBirthYear(self):\n",
        "    return self.__birthYear\n",
        "\n",
        "  def print(self):\n",
        "    print(\"Person's name: \",self.__name,'\\n',\"Person's ID is: \",self.__personID,'\\n',\"Person's nationality: \",self.__nationality,\"\\n\",\"Person's year of birth: \",self.__birthYear)\n",
        "class Student(Person):\n",
        "\n",
        "  def __init__(self, nam, nat, birth, id, GRADE, GPA):\n",
        "    self.__grade=GRADE\n",
        "    self.__gpa=GPA\n",
        "    self.setName(nam)\n",
        "    self.setNationality(nat)\n",
        "    self.setBirthYear(birth)\n",
        "    self.setPersonID(id)\n",
        "\n",
        "  def setGrade(self, GRADE):\n",
        "    self.__grade=GRADE\n",
        "\n",
        "  def setGPA(self, GPA):\n",
        "    self.__gpa=GPA\n",
        "  \n",
        "class Representor(Person):\n",
        "\n",
        "  def __init__(self, EVALUATION, YEAR, stud):\n",
        "    self.__evaluation=EVALUATION\n",
        "    self.__year=YEAR\n",
        "    self.student=stud\n",
        "    \n",
        "\n",
        "  def setEvaluation(self, EVALUATION):\n",
        "    self.__evaluation=EVALUATION\n",
        "\n",
        "  def setYear(self, YEAR):\n",
        "    self.__year=YEAR\n",
        "\n"
      ]
    },
    {
      "cell_type": "markdown",
      "metadata": {
        "id": "9UfvIgD0dOy6"
      },
      "source": [
        "#Exercise 3:\n",
        "<h5> <u> Exercise Objectives: </u></h5>\n",
        "\n",
        "* Define object \n",
        "\n",
        "\n",
        "<h5> <u> Problem Description: </u></h5>\n",
        "\n",
        "* Create an object of class `Student` called `student1`. The name, nationality, birth year, personID, grade, and the GPA of `student1` are Ahmad, Jordanian, 2002, 202235452, Tenth, and 95, respectively.\n",
        "* Modify the name of `student1` to be Khaled.\n",
        "* Create an object of `Representor` called `representor1`. Each Representor should be a student; thus, use the `student1` object. The evaluation and year of `representor1` are Good and \"2022-2023\".\n",
        "* Print all details of `representor1` by calling `print()`.\n",
        "\n",
        "\n",
        "<h5> <u> Sample Output: </u></h5>\n",
        "Name: Khaled \n",
        "\n",
        "Nationality: Jordanian\n",
        "\n",
        "Birth year: 2002\n",
        "\n",
        "Person ID: 202235452\n",
        "\n",
        "\n",
        "\n",
        "\n"
      ]
    },
    {
      "cell_type": "code",
      "execution_count": 61,
      "metadata": {
        "colab": {
          "base_uri": "https://localhost:8080/"
        },
        "id": "C6MjJoGrgcqd",
        "outputId": "a9c97e33-5fa1-42fd-b7fe-642fd422d7c1"
      },
      "outputs": [
        {
          "output_type": "stream",
          "name": "stdout",
          "text": [
            "Person's name:  Khaled \n",
            " Person's ID is:  20200356 \n",
            " Person's nationality:  Jordanian \n",
            " Person's year of birth:  2002\n"
          ]
        }
      ],
      "source": [
        "student1=Student('Ahmad', 'Jordanian', 2002, 20200356, 'Tenth', 95)\n",
        "student1.setName('Khaled')\n",
        "representor1=Representor('Good', '2022-2023', student1)\n",
        "representor1.student.print()"
      ]
    }
  ],
  "metadata": {
    "colab": {
      "collapsed_sections": [],
      "provenance": []
    },
    "kernelspec": {
      "display_name": "Python 3",
      "name": "python3"
    }
  },
  "nbformat": 4,
  "nbformat_minor": 0
}