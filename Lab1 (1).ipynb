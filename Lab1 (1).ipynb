{
  "nbformat": 4,
  "nbformat_minor": 0,
  "metadata": {
    "colab": {
      "provenance": [],
      "collapsed_sections": []
    },
    "kernelspec": {
      "name": "python3",
      "display_name": "Python 3"
    }
  },
  "cells": [
    {
      "cell_type": "markdown",
      "metadata": {
        "id": "uathVY58ZRuH"
      },
      "source": [
        "<center><img src=\"https://drive.google.com/uc?export=view&id=1ia67jZrMZx4V45HYDM7pxcoZrPJE-NMP\" alt=\"PSUT\"  width=\"180px\"> \n",
        "<p> \n",
        "King Hussein School for Computing Sciences <br>\n",
        "Department of Data Science <br>\n",
        "Artificial Intelligence Lab <br>\n",
        "</p></center>\n",
        "\n",
        "\n",
        "<!-- **Title**:  *Review of Python*  -->\n",
        "<hr>\n",
        "<h4><b>Grading Criteria</b></h4>\n",
        "\n",
        "<table border>\n",
        "<tr>\n",
        "<td> <b>Exercise</b></td>\n",
        "<td> <b>Ex.1</b></td>\n",
        "<td> <b>Ex.2</b></td>\n",
        "<td> <b>Ex.3</b></td>\n",
        "</tr>\n",
        "\n",
        "<tr>\n",
        "<td> <b>Marks</b></td>\n",
        "<td> /2</td>\n",
        "<td> /5</td>\n",
        "<td> /3</td>\n",
        "\n",
        "</tr>\n",
        "<tr>\n",
        "<td> <b>Total</b></td>\n",
        "<th colspan=6> /10</th> \n",
        "</tr>\n",
        "</table>\n",
        "\n",
        "<h4><b>Lab Objectives</b></h4>\n",
        "<ul>\n",
        "<li> Familiarizing students with the process of object-oriented design.\n",
        "<li> Familiarizing students with reading and understanding object-oriented programs. \n",
        "<li> Understanding the concepts of encapsulation, polymorphism, and inheritance\n",
        "as they pertain to object -oriented design and programming.\n",
        "<li> Designing moderately complex software using object -oriented\n",
        "design.\n",
        "</ul>\n",
        "\n",
        "<h4><b>Lab Instructions</b></h4>\n",
        "<ul>\n",
        "<li> Create a new folder on desktop and name it by your “ID-FirstName-LastName-LabX”.\n",
        "<li> Create a new folder on Google drive and name it by your.“ID-FirstName-LastName-DE-Lab” and inside this folder create a new folder for each lab.\n",
        "<li> You must upload your solutions to e-learning as follows as .ipynb and .pdf (ctrl+P) files.\n",
        "<li> Each lab assignment is of 10 marks.</li>\n",
        "<li> <b>Do not</b> leave before discussing your solutions with the instructor. </li> \n",
        "</ul>\n",
        "\n"
      ]
    },
    {
      "cell_type": "markdown",
      "metadata": {
        "id": "UGUVe4VJZxbN"
      },
      "source": [
        "#Exercise 1:\n",
        "<h5> <u> Exercise Objectives: </u></h5>\n",
        "\n",
        "* Drawing class diagram.\n",
        "\n",
        "<h5> <u> Problem Description: </u></h5>\n",
        "You are asked to develop a program for a conference.\n",
        "\n",
        "* The program includes three classes called `Person`, `Student`, and `Representor`.\n",
        "*  The classes `Student`and `Representor` inherits from class `Person`.\n",
        "*  The class `Person` includes the following attributes and functions:\n",
        "  * Four private members: `name`,`nationality`, `birthYear`, and `personID`. \n",
        "  * A parameterized constructor to initialize all private members.\n",
        "  * Setter functions to set values for private memebers: `setName()`, `setNationality()`, `setBirthYear()`, and `setPersonID()`.\n",
        "  * Getter functions to return the values for private memebers: `getName()`, `getNationality()`, `getBirthYear()`, and `getPersonID()`.\n",
        "  * A function called `print()` to print data about a person in a well-formatted manner.\n",
        "\n",
        "*  The class `Student` includes the following attributes and functions:\n",
        "  * Two private members: `Grade` and `GPA`.\n",
        "  * A parameterized constructor to initialize all private members. \n",
        "  * Setter functions to set values for private memebers: `setGrade()`and `setGPA()`. \n",
        "\n",
        "*  The class `Representor` includes the following attributes and functions:\n",
        "  * Two private members: `Evaluation` and `Year`.\n",
        "  * A parameterized constructor to initialize all private members in addition to an object of class `Student`. The constructor receives an object of `Student` to initialize.\n",
        "  * Setter functions to set values for private memebers: `setEvaluation()`and `setYear()`. \n",
        "\n",
        "Draw a class diagram that represent the given problem on the paper. **SHOW THE DIAGRAM TO THE INSTRUCTOR BEFORE THE IMPLEMENTATION.**"
      ]
    },
    {
      "cell_type": "markdown",
      "metadata": {
        "id": "K85aPKAeajen"
      },
      "source": [
        "##Exercise 2:\n",
        "<h5> <u> Exercise Objectives: </u></h5>\n",
        "\n",
        "* Define class\n",
        "\n",
        "\n",
        "<h5> <u> Problem Description: </u></h5>\n",
        "\n",
        "* Implement class `Person`. \n",
        "* Implement class `Student`. \n",
        "* Implement class `Representor`. \n",
        "\n"
      ]
    },
    {
      "cell_type": "code",
      "metadata": {
        "id": "UtdNKZudhJu5"
      },
      "source": [],
      "execution_count": null,
      "outputs": []
    },
    {
      "cell_type": "markdown",
      "metadata": {
        "id": "9UfvIgD0dOy6"
      },
      "source": [
        "#Exercise 3:\n",
        "<h5> <u> Exercise Objectives: </u></h5>\n",
        "\n",
        "* Define object \n",
        "\n",
        "\n",
        "<h5> <u> Problem Description: </u></h5>\n",
        "\n",
        "* Create an object of class `Student` called `student1`. The name, nationality, birth year, personID, grade, and the GPA of `student1` are Ahmad, Jordanian, 2002, 202235452, Tenth, and 95, respectively.\n",
        "* Modify the name of `student1` to be Khaled.\n",
        "* Create an object of `Representor` called `representor1`. Each Representor should be a student; thus, use the `student1` object. The evaluation and year of `representor1` are Good and \"2022-2023\".\n",
        "* Print all details of `representor1` by calling `print()`.\n",
        "\n",
        "\n",
        "<h5> <u> Sample Output: </u></h5>\n",
        "Name: Khaled \n",
        "\n",
        "Nationality: Jordanian\n",
        "\n",
        "Birth year: 2002\n",
        "\n",
        "Person ID: 202235452\n",
        "\n",
        "\n",
        "\n",
        "\n"
      ]
    },
    {
      "cell_type": "code",
      "metadata": {
        "id": "C6MjJoGrgcqd"
      },
      "source": [],
      "execution_count": null,
      "outputs": []
    },
    {
      "cell_type": "code",
      "source": [],
      "metadata": {
        "id": "93mrtiXoV_BA"
      },
      "execution_count": null,
      "outputs": []
    }
  ]
}