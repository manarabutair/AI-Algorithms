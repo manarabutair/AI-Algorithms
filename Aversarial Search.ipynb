{
  "nbformat": 4,
  "nbformat_minor": 0,
  "metadata": {
    "colab": {
      "provenance": []
    },
    "kernelspec": {
      "name": "python3",
      "display_name": "Python 3"
    }
  },
  "cells": [
    {
      "cell_type": "markdown",
      "metadata": {
        "id": "uathVY58ZRuH"
      },
      "source": [
        "<center><img src=\"https://drive.google.com/uc?export=view&id=1ia67jZrMZx4V45HYDM7pxcoZrPJE-NMP\" alt=\"PSUT\"  width=\"180px\"> \n",
        "<p> \n",
        "King Hussein School for Computing Sciences <br>\n",
        "Department of Data Science <br>\n",
        "Artificial Intelligence Lab <br>\n",
        "</p></center>\n",
        "\n",
        "\n",
        "<!-- **Title**:  *Review of Python*  -->\n",
        "<hr>\n",
        "<h4><b>Grading Criteria</b></h4>\n",
        "\n",
        "<table border>\n",
        "<tr>\n",
        "<td> <b>Exercise</b></td>\n",
        "<td> <b>Ex.1</b></td>\n",
        "<td> <b>Ex.2</b></td>\n",
        "</tr>\n",
        "\n",
        "<tr>\n",
        "<td> <b>Marks</b></td>\n",
        "<td> /4</td>\n",
        "<td> /6</td>\n",
        "\n",
        "</tr>\n",
        "<tr>\n",
        "<td> <b>Total</b></td>\n",
        "<th colspan=6> /10</th> \n",
        "</tr>\n",
        "</table>\n",
        "\n",
        "<h4><b>Lab Objectives</b></h4>\n",
        "<ul>\n",
        "<li> Familiarizing students with the problem solving process. \n",
        "<li> Familiarizing students with problem representation methods.\n",
        "<li> Using minimax algorithm.\n",
        "</ul>\n",
        "\n",
        "<h4><b>Lab Instructions</b></h4>\n",
        "<ul>\n",
        "<li> Create a new folder on desktop and name it by your “ID-FirstName-LastName-LabX”.\n",
        "<li> Create a new folder on Google drive and name it by your.“ID-FirstName-LastName-DE-Lab” and inside this folder create a new folder for each lab.\n",
        "<li> You must upload your solutions to e-learning as follows as .ipynb and .pdf (ctrl+P) files.\n",
        "<li> Each lab assignment is of 10 marks.</li>\n",
        "<li> <b>Do not</b> leave before discussing your solutions with the instructor. </li> \n",
        "</ul>\n",
        "\n"
      ]
    },
    {
      "cell_type": "markdown",
      "source": [
        "#Exercise 1:\n",
        "<h5> <u> Exercise Objectives: </u></h5>\n",
        "\n",
        "* Analyzing the problem.\n",
        "* Representing problem as a tree. \n",
        "\n",
        "\n",
        "<h5> <u> Problem Description: </u></h5>\n",
        "\n",
        "You are given the following code and asked to:\n",
        "\n",
        "* Read 8 integers from the user to fill the terminal nodes.\n",
        "* Print the tree as follows:\n",
        "\n",
        "![image.png](data:image/png;base64,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)\n",
        "\n",
        "* Compute and print the tree depth.\n",
        "* Retrieve the list of all nodes in the tree.\n",
        "* Print the tag of the first node using the list of all nodes\n",
        "* Create a dictionary containing the nodes list in each depth. Do not consider the terminal nodes."
      ],
      "metadata": {
        "id": "4PjnTHHnyi8m"
      }
    },
    {
      "cell_type": "code",
      "source": [
        "!pip install treelib"
      ],
      "metadata": {
        "colab": {
          "base_uri": "https://localhost:8080/"
        },
        "id": "nu4eTTTp58-2",
        "outputId": "bc8b2de8-8b7a-4a55-fa64-1456f4b95f0a"
      },
      "execution_count": 1,
      "outputs": [
        {
          "output_type": "stream",
          "name": "stdout",
          "text": [
            "Looking in indexes: https://pypi.org/simple, https://us-python.pkg.dev/colab-wheels/public/simple/\n",
            "Collecting treelib\n",
            "  Downloading treelib-1.6.1.tar.gz (24 kB)\n",
            "Requirement already satisfied: future in /usr/local/lib/python3.8/dist-packages (from treelib) (0.16.0)\n",
            "Building wheels for collected packages: treelib\n",
            "  Building wheel for treelib (setup.py) ... \u001b[?25l\u001b[?25hdone\n",
            "  Created wheel for treelib: filename=treelib-1.6.1-py3-none-any.whl size=18385 sha256=e7334b02982c7b924b342028212702b86cf3a44f71971c9ecf97c0bd9cb16d36\n",
            "  Stored in directory: /root/.cache/pip/wheels/71/df/8b/6b005e3bb9b275c24dfc392cda334f43f132e85a6f17cfad3a\n",
            "Successfully built treelib\n",
            "Installing collected packages: treelib\n",
            "Successfully installed treelib-1.6.1\n"
          ]
        }
      ]
    },
    {
      "cell_type": "code",
      "source": [
        "from treelib import Tree, Node\n",
        "tree=Tree()"
      ],
      "metadata": {
        "id": "nys-aS-F6LID"
      },
      "execution_count": 8,
      "outputs": []
    },
    {
      "cell_type": "code",
      "source": [],
      "metadata": {
        "id": "rLaplNqH6d8g"
      },
      "execution_count": null,
      "outputs": []
    },
    {
      "cell_type": "code",
      "source": [
        "tree.create_node(\"a\", \"a\")  \n",
        "tree.create_node(\"b\", \"b\", parent=\"a\")\n",
        "tree.create_node(\"c\", \"c\", parent=\"a\")\n",
        "tree.create_node(\"d\", \"d\", parent=\"b\")\n",
        "tree.create_node(\"e\", \"e\", parent=\"b\")\n",
        "tree.create_node(\"f\", \"f\", parent=\"c\")\n",
        "tree.create_node('g', \"g\", parent=\"c\")\n",
        "\n",
        "tree.create_node(\"-2\", \"-2\", parent=\"d\")\n",
        "tree.create_node('4', \"4\", parent=\"d\")\n",
        "tree.create_node(\"2\", \"2\", parent=\"e\")\n",
        "tree.create_node('6', \"6\", parent=\"e\")\n",
        "tree.create_node(\"-8\", \"-8\", parent=\"f\")\n",
        "tree.create_node('-5', \"-5\", parent=\"f\")\n",
        "tree.create_node(\"1\", \"1\", parent=\"g\")\n",
        "tree.create_node('11', \"11\", parent=\"g\")\n",
        "tree.show()"
      ],
      "metadata": {
        "colab": {
          "base_uri": "https://localhost:8080/"
        },
        "id": "rPJtNzrjGvi_",
        "outputId": "4a772b88-c107-40ee-cc9a-bea5b4b9ecce"
      },
      "execution_count": 9,
      "outputs": [
        {
          "output_type": "stream",
          "name": "stdout",
          "text": [
            "a\n",
            "├── b\n",
            "│   ├── d\n",
            "│   │   ├── -2\n",
            "│   │   └── 4\n",
            "│   └── e\n",
            "│       ├── 2\n",
            "│       └── 6\n",
            "└── c\n",
            "    ├── f\n",
            "    │   ├── -5\n",
            "    │   └── -8\n",
            "    └── g\n",
            "        ├── 1\n",
            "        └── 11\n",
            "\n"
          ]
        }
      ]
    },
    {
      "cell_type": "code",
      "source": [
        "tree.depth()"
      ],
      "metadata": {
        "colab": {
          "base_uri": "https://localhost:8080/"
        },
        "id": "O4UYeZEQZ8sJ",
        "outputId": "e6ad8088-eb32-4796-b81a-65ae66c8b855"
      },
      "execution_count": null,
      "outputs": [
        {
          "output_type": "execute_result",
          "data": {
            "text/plain": [
              "0"
            ]
          },
          "metadata": {},
          "execution_count": 139
        }
      ]
    },
    {
      "cell_type": "code",
      "source": [
        "tree.all_nodes()[0].tag"
      ],
      "metadata": {
        "colab": {
          "base_uri": "https://localhost:8080/",
          "height": 35
        },
        "id": "XMe8dQx2_IRb",
        "outputId": "af9d293a-2937-4c36-a701-82075c8be9f1"
      },
      "execution_count": null,
      "outputs": [
        {
          "output_type": "execute_result",
          "data": {
            "text/plain": [
              "'a'"
            ],
            "application/vnd.google.colaboratory.intrinsic+json": {
              "type": "string"
            }
          },
          "metadata": {},
          "execution_count": 23
        }
      ]
    },
    {
      "cell_type": "code",
      "source": [
        "dir(tree)"
      ],
      "metadata": {
        "colab": {
          "base_uri": "https://localhost:8080/"
        },
        "id": "18IziLMxAVNL",
        "outputId": "484c0315-b686-42b8-85d1-9b4d2a83ccfc"
      },
      "execution_count": null,
      "outputs": [
        {
          "output_type": "execute_result",
          "data": {
            "text/plain": [
              "['DEPTH',\n",
              " 'ROOT',\n",
              " 'WIDTH',\n",
              " 'ZIGZAG',\n",
              " '_Tree__get',\n",
              " '_Tree__get_iter',\n",
              " '_Tree__print_backend',\n",
              " '_Tree__update_bpointer',\n",
              " '_Tree__update_fpointer',\n",
              " '__class__',\n",
              " '__contains__',\n",
              " '__delattr__',\n",
              " '__dict__',\n",
              " '__dir__',\n",
              " '__doc__',\n",
              " '__eq__',\n",
              " '__format__',\n",
              " '__ge__',\n",
              " '__getattribute__',\n",
              " '__getitem__',\n",
              " '__gt__',\n",
              " '__hash__',\n",
              " '__init__',\n",
              " '__init_subclass__',\n",
              " '__le__',\n",
              " '__len__',\n",
              " '__lt__',\n",
              " '__module__',\n",
              " '__ne__',\n",
              " '__new__',\n",
              " '__reduce__',\n",
              " '__reduce_ex__',\n",
              " '__repr__',\n",
              " '__setattr__',\n",
              " '__setitem__',\n",
              " '__sizeof__',\n",
              " '__str__',\n",
              " '__subclasshook__',\n",
              " '__weakref__',\n",
              " '_clone',\n",
              " '_identifier',\n",
              " '_nodes',\n",
              " '_reader',\n",
              " '_set_identifier',\n",
              " 'add_node',\n",
              " 'all_nodes',\n",
              " 'all_nodes_itr',\n",
              " 'ancestor',\n",
              " 'children',\n",
              " 'contains',\n",
              " 'create_node',\n",
              " 'depth',\n",
              " 'expand_tree',\n",
              " 'filter_nodes',\n",
              " 'get_node',\n",
              " 'identifier',\n",
              " 'is_ancestor',\n",
              " 'is_branch',\n",
              " 'leaves',\n",
              " 'level',\n",
              " 'link_past_node',\n",
              " 'merge',\n",
              " 'move_node',\n",
              " 'node_class',\n",
              " 'nodes',\n",
              " 'parent',\n",
              " 'paste',\n",
              " 'paths_to_leaves',\n",
              " 'remove_node',\n",
              " 'remove_subtree',\n",
              " 'root',\n",
              " 'rsearch',\n",
              " 'save2file',\n",
              " 'show',\n",
              " 'siblings',\n",
              " 'size',\n",
              " 'subtree',\n",
              " 'to_dict',\n",
              " 'to_graphviz',\n",
              " 'to_json',\n",
              " 'update_node']"
            ]
          },
          "metadata": {},
          "execution_count": 10
        }
      ]
    },
    {
      "cell_type": "code",
      "source": [
        "tree.all_nodes()"
      ],
      "metadata": {
        "colab": {
          "base_uri": "https://localhost:8080/"
        },
        "id": "-98wuRBS_x-E",
        "outputId": "87f4702b-f592-4f6e-f109-40574469e9c6"
      },
      "execution_count": null,
      "outputs": [
        {
          "output_type": "execute_result",
          "data": {
            "text/plain": [
              "[Node(tag=a, identifier=a, data=None),\n",
              " Node(tag=b, identifier=b, data=None),\n",
              " Node(tag=c, identifier=c, data=None),\n",
              " Node(tag=d, identifier=d, data=None),\n",
              " Node(tag=e, identifier=e, data=None),\n",
              " Node(tag=f, identifier=f, data=None),\n",
              " Node(tag=g, identifier=g, data=None),\n",
              " Node(tag=-2, identifier=-2, data=None),\n",
              " Node(tag=4, identifier=4, data=None),\n",
              " Node(tag=2, identifier=2, data=None),\n",
              " Node(tag=6, identifier=6, data=None),\n",
              " Node(tag=-8, identifier=-8, data=None),\n",
              " Node(tag=-5, identifier=-5, data=None),\n",
              " Node(tag=1, identifier=1, data=None),\n",
              " Node(tag=11, identifier=11, data=None)]"
            ]
          },
          "metadata": {},
          "execution_count": 141
        }
      ]
    },
    {
      "cell_type": "code",
      "source": [
        "d={}\n",
        "\n",
        "for i in range(tree.depth()):\n",
        "  l=[]\n",
        "  for node in tree.nodes:\n",
        "    if tree.depth(node)==i:\n",
        "      l.append(node)\n",
        "  d[i]=l\n",
        "print(d)\n",
        "  "
      ],
      "metadata": {
        "id": "QklQmYLccBIB",
        "colab": {
          "base_uri": "https://localhost:8080/"
        },
        "outputId": "15911344-8cf3-4204-83c8-148eb8b9c8ae"
      },
      "execution_count": 10,
      "outputs": [
        {
          "output_type": "stream",
          "name": "stdout",
          "text": [
            "{0: ['a'], 1: ['b', 'c'], 2: ['d', 'e', 'f', 'g']}\n"
          ]
        }
      ]
    },
    {
      "cell_type": "markdown",
      "source": [
        "#Exercise 2:\n",
        "<h5> <u> Exercise Objectives: </u></h5>\n",
        "\n",
        "* Analyzing the problem.\n",
        "* Using mini-max algorihtm.\n",
        "\n",
        "\n",
        "<h5> <u> Problem Description: </u></h5>\n",
        "\n",
        "* Define a function called `minimax()` that implements minimax algorithm to find the minimax decision and fill the tree with the optimal value.\n",
        "* Call `minimax()`.\n",
        "* Print the tree as follows:\n",
        "\n",
        "![image.png](data:image/png;base64,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)"
      ],
      "metadata": {
        "id": "UuXUuCK807uD"
      }
    },
    {
      "cell_type": "code",
      "source": [
        "def minimax():\n",
        "  i = tree.depth()-1\n",
        "  while i >=0:\n",
        "    if i%2==0:\n",
        "     for node in d[i]:\n",
        "      l=[]\n",
        "      for child in tree.children(node):\n",
        "        l.append(int(child.tag))\n",
        "      tree.get_node(node).tag=max(l)\n",
        "    \n",
        "    else:\n",
        "      for node in d[i]:\n",
        "        l=[]\n",
        "        for child in tree.children(node):\n",
        "          l.append(int(child.tag))\n",
        "        tree.get_node(node).tag=min(l)\n",
        "    i=i-1\n",
        "\n",
        "\n",
        "  tree.show()\n",
        "minimax()"
      ],
      "metadata": {
        "id": "bLp-D-_cz494",
        "colab": {
          "base_uri": "https://localhost:8080/"
        },
        "outputId": "09e0927f-04f9-433b-ca3d-17480f81b102"
      },
      "execution_count": 13,
      "outputs": [
        {
          "output_type": "stream",
          "name": "stdout",
          "text": [
            "4\n",
            "├── -5\n",
            "│   ├── -5\n",
            "│   │   ├── -5\n",
            "│   │   └── -8\n",
            "│   └── 11\n",
            "│       ├── 1\n",
            "│       └── 11\n",
            "└── 4\n",
            "    ├── 4\n",
            "    │   ├── -2\n",
            "    │   └── 4\n",
            "    └── 6\n",
            "        ├── 2\n",
            "        └── 6\n",
            "\n"
          ]
        }
      ]
    }
  ]
}
